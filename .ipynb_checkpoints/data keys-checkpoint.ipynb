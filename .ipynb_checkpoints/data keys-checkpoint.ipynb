{
 "cells": [
  {
   "cell_type": "code",
   "execution_count": 1,
   "metadata": {
    "collapsed": false
   },
   "outputs": [
    {
     "name": "stderr",
     "output_type": "stream",
     "text": [
      "/home/eric/anaconda/envs/nikea2/lib/python2.7/site-packages/pytz/__init__.py:29: UserWarning: Module bson was already imported from /home/eric/anaconda/envs/nikea2/lib/python2.7/site-packages/bson/__init__.pyc, but /home/eric/anaconda/envs/nikea2/lib/python2.7/site-packages/mongoengine-0.8.7-py2.7.egg is being added to sys.path\n",
      "  from pkg_resources import resource_stream\n"
     ]
    }
   ],
   "source": [
    "from metadatastore.api import *\n",
    "from dataportal import DataBroker as db\n",
    "from dataportal.examples.sample_data.image_and_scalar import run"
   ]
  },
  {
   "cell_type": "code",
   "execution_count": 2,
   "metadata": {
    "collapsed": false
   },
   "outputs": [],
   "source": [
    "ev, = find_events(uid=\"3a0d9d20-1995-435b-a65d-23da96b18eb4\")"
   ]
  },
  {
   "cell_type": "code",
   "execution_count": 3,
   "metadata": {
    "collapsed": false
   },
   "outputs": [
    {
     "name": "stdout",
     "output_type": "stream",
     "text": [
      "\n",
      "Event\n",
      "=====\n",
      "data            :\n",
      "  img             : a581bff4-0461-11e5-a929-74d02b8ca78c    \n",
      "  img_x_max       : 250.0                                   \n",
      "  img_sum_y       : a5875298-0461-11e5-a929-74d02b8ca78c    \n",
      "  img_sum_x       : a5868250-0461-11e5-a929-74d02b8ca78c    \n",
      "  linear_motor    : 0                                       \n",
      "  img_y_max       : 249.0                                   \n",
      "  total_img_sum   : 94.2477902139                           \n",
      "id              : 5565a742d4ac1420c308d36f                \n",
      "seq_num         : 0                                       \n",
      "time            : 0.00366843155457                        \n",
      "time_as_datetime: 1969-12-31 19:00:00.003668              \n",
      "timestamps      :\n",
      "  img             : -0.000323951254278                      \n",
      "  img_x_max       : -0.00460223763964                       \n",
      "  img_sum_y       : -0.0109124726                           \n",
      "  img_sum_x       : 0.0204509190493                         \n",
      "  linear_motor    : 0.00165504386635                        \n",
      "  img_y_max       : 0.00580266026839                        \n",
      "  total_img_sum   : -0.00404366493492                       \n",
      "uid             : 3a0d9d20-1995-435b-a65d-23da96b18eb4    \n",
      "  \n",
      "  EventDescriptor\n",
      "  ---------------\n",
      "  +---------------+--------+------------+--------+-------------+\n",
      "  | data keys     | dtype  |  external  | shape  |    source   |\n",
      "  +---------------+--------+------------+--------+-------------+\n",
      "  | img           | array  | FILESTORE: | [5, 5] |     CCD     |\n",
      "  | img_sum_x     | array  | FILESTORE: |  [5]   |   CCD:xsum  |\n",
      "  | img_sum_y     | array  | FILESTORE: |  [5]   |   CCD:ysum  |\n",
      "  | img_x_max     | number |    None    |   []   |   CCD:xmax  |\n",
      "  | img_y_max     | number |    None    |   []   |   CCD:ymax  |\n",
      "  | linear_motor  | number |    None    |   []   | PV:ES:sam_x |\n",
      "  | total_img_sum | number |    None    |   []   |   CCD:sum   |\n",
      "  +---------------+--------+------------+--------+-------------+\n",
      "  time            : 0.0                                     \n",
      "  time_as_datetime: 1969-12-31 19:00:00                     \n",
      "  uid             : afacd8be-9c90-4895-9608-a078dc7488e0    \n",
      "      \n",
      "      RunStart\n",
      "      ````````\n",
      "      beamline_id     : example                                 \n",
      "      group           :                                         \n",
      "      owner           :                                         \n",
      "      project         :                                         \n",
      "      sample          :\n",
      "      scan_id         : 1                                       \n",
      "      time            : 0.0                                     \n",
      "      time_as_datetime: 1969-12-31 19:00:00                     \n",
      "      uid             : af0c842a-7564-46e3-b526-ed50c685f141    \n",
      "            \n",
      "            BeamlineConfig\n",
      "            ::::::::::::::\n",
      "            config_params   :\n",
      "            time            : 0.0                                     \n",
      "            time_as_datetime: 1969-12-31 19:00:00                     \n",
      "            uid             : 02ab5020-1bf4-40f6-8e54-6b78c04bd4b9    \n"
     ]
    }
   ],
   "source": [
    "print ev"
   ]
  },
  {
   "cell_type": "code",
   "execution_count": 19,
   "metadata": {
    "collapsed": true
   },
   "outputs": [],
   "source": [
    "lst = \"= - ` : . ' \\\" ~ ^ _ * + #\".split()"
   ]
  },
  {
   "cell_type": "code",
   "execution_count": 20,
   "metadata": {
    "collapsed": true
   },
   "outputs": [],
   "source": [
    "new_lst = [\"%s\" % l for l in lst]"
   ]
  },
  {
   "cell_type": "code",
   "execution_count": 21,
   "metadata": {
    "collapsed": false
   },
   "outputs": [
    {
     "name": "stdout",
     "output_type": "stream",
     "text": [
      "['=', '-', '`', ':', '.', \"'\", '\"', '~', '^', '_', '*', '+', '#']\n"
     ]
    }
   ],
   "source": [
    "print(new_lst)"
   ]
  },
  {
   "cell_type": "code",
   "execution_count": null,
   "metadata": {
    "collapsed": true
   },
   "outputs": [],
   "source": []
  }
 ],
 "metadata": {
  "kernelspec": {
   "display_name": "Python 2",
   "language": "python",
   "name": "python2"
  },
  "language_info": {
   "codemirror_mode": {
    "name": "ipython",
    "version": 2
   },
   "file_extension": ".py",
   "mimetype": "text/x-python",
   "name": "python",
   "nbconvert_exporter": "python",
   "pygments_lexer": "ipython2",
   "version": "2.7.9"
  }
 },
 "nbformat": 4,
 "nbformat_minor": 0
}
